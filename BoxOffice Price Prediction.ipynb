{
 "cells": [
  {
   "cell_type": "code",
   "execution_count": 41,
   "metadata": {},
   "outputs": [],
   "source": [
    "import numpy as np\n",
    "import pandas as pd\n",
    "import matplotlib.pyplot as plt\n",
    "from sklearn.model_selection import train_test_split\n",
    "from sklearn.linear_model import LinearRegression\n",
    "from sklearn.metrics import confusion_matrix\n",
    "from sklearn import svm\n",
    "from sklearn.svm import LinearSVC\n",
    "from sklearn import metrics\n",
    "import seaborn as sn\n",
    "from sklearn.preprocessing import StandardScaler, MinMaxScaler"
   ]
  },
  {
   "cell_type": "markdown",
   "metadata": {},
   "source": [
    "## Load Movies Dataset"
   ]
  },
  {
   "cell_type": "code",
   "execution_count": 42,
   "metadata": {},
   "outputs": [],
   "source": [
    "df = pd.read_csv('datasets/movies_data.csv')"
   ]
  },
  {
   "cell_type": "code",
   "execution_count": 43,
   "metadata": {},
   "outputs": [
    {
     "data": {
      "text/html": [
       "<div>\n",
       "<style scoped>\n",
       "    .dataframe tbody tr th:only-of-type {\n",
       "        vertical-align: middle;\n",
       "    }\n",
       "\n",
       "    .dataframe tbody tr th {\n",
       "        vertical-align: top;\n",
       "    }\n",
       "\n",
       "    .dataframe thead th {\n",
       "        text-align: right;\n",
       "    }\n",
       "</style>\n",
       "<table border=\"1\" class=\"dataframe\">\n",
       "  <thead>\n",
       "    <tr style=\"text-align: right;\">\n",
       "      <th></th>\n",
       "      <th>Movie</th>\n",
       "      <th>Target</th>\n",
       "      <th>Budget</th>\n",
       "      <th>BoxOffice</th>\n",
       "      <th>Rating</th>\n",
       "      <th>Votes</th>\n",
       "      <th>Year</th>\n",
       "    </tr>\n",
       "  </thead>\n",
       "  <tbody>\n",
       "    <tr>\n",
       "      <td>0</td>\n",
       "      <td>Batti Gul Meter Chalu</td>\n",
       "      <td>2</td>\n",
       "      <td>50.0</td>\n",
       "      <td>37.0</td>\n",
       "      <td>6.3</td>\n",
       "      <td>1552</td>\n",
       "      <td>2018</td>\n",
       "    </tr>\n",
       "    <tr>\n",
       "      <td>1</td>\n",
       "      <td>Dangal</td>\n",
       "      <td>6</td>\n",
       "      <td>90.0</td>\n",
       "      <td>370.0</td>\n",
       "      <td>8.5</td>\n",
       "      <td>105480</td>\n",
       "      <td>2016</td>\n",
       "    </tr>\n",
       "    <tr>\n",
       "      <td>2</td>\n",
       "      <td>Manmarziyaan</td>\n",
       "      <td>3</td>\n",
       "      <td>30.0</td>\n",
       "      <td>26.0</td>\n",
       "      <td>7.0</td>\n",
       "      <td>1836</td>\n",
       "      <td>2018</td>\n",
       "    </tr>\n",
       "    <tr>\n",
       "      <td>3</td>\n",
       "      <td>Sui Dhaaga: Made in India</td>\n",
       "      <td>4</td>\n",
       "      <td>50.0</td>\n",
       "      <td>55.0</td>\n",
       "      <td>6.9</td>\n",
       "      <td>1342</td>\n",
       "      <td>2018</td>\n",
       "    </tr>\n",
       "    <tr>\n",
       "      <td>4</td>\n",
       "      <td>Stree</td>\n",
       "      <td>6</td>\n",
       "      <td>25.0</td>\n",
       "      <td>127.0</td>\n",
       "      <td>8.3</td>\n",
       "      <td>7801</td>\n",
       "      <td>2018</td>\n",
       "    </tr>\n",
       "  </tbody>\n",
       "</table>\n",
       "</div>"
      ],
      "text/plain": [
       "                       Movie  Target  Budget  BoxOffice  Rating   Votes  Year\n",
       "0      Batti Gul Meter Chalu       2    50.0       37.0     6.3    1552  2018\n",
       "1                     Dangal       6    90.0      370.0     8.5  105480  2016\n",
       "2               Manmarziyaan       3    30.0       26.0     7.0    1836  2018\n",
       "3  Sui Dhaaga: Made in India       4    50.0       55.0     6.9    1342  2018\n",
       "4                      Stree       6    25.0      127.0     8.3    7801  2018"
      ]
     },
     "execution_count": 43,
     "metadata": {},
     "output_type": "execute_result"
    }
   ],
   "source": [
    "df.head()"
   ]
  },
  {
   "cell_type": "markdown",
   "metadata": {},
   "source": [
    "## Understand and Preprocess Data "
   ]
  },
  {
   "cell_type": "code",
   "execution_count": 44,
   "metadata": {},
   "outputs": [
    {
     "data": {
      "text/plain": [
       "(703, 7)"
      ]
     },
     "execution_count": 44,
     "metadata": {},
     "output_type": "execute_result"
    }
   ],
   "source": [
    "movie = df[df.Budget != 0]  ## Take movies which have budget greater than 0\n",
    "movie.shape"
   ]
  },
  {
   "cell_type": "code",
   "execution_count": 45,
   "metadata": {},
   "outputs": [
    {
     "data": {
      "text/plain": [
       "Movie        0\n",
       "Target       0\n",
       "Budget       0\n",
       "BoxOffice    0\n",
       "Rating       0\n",
       "Votes        0\n",
       "Year         0\n",
       "dtype: int64"
      ]
     },
     "execution_count": 45,
     "metadata": {},
     "output_type": "execute_result"
    }
   ],
   "source": [
    "movie.isnull().sum()      ## check for null values"
   ]
  },
  {
   "cell_type": "code",
   "execution_count": 46,
   "metadata": {},
   "outputs": [],
   "source": [
    "# movie.dropna()"
   ]
  },
  {
   "cell_type": "code",
   "execution_count": 47,
   "metadata": {},
   "outputs": [
    {
     "data": {
      "text/html": [
       "<div>\n",
       "<style scoped>\n",
       "    .dataframe tbody tr th:only-of-type {\n",
       "        vertical-align: middle;\n",
       "    }\n",
       "\n",
       "    .dataframe tbody tr th {\n",
       "        vertical-align: top;\n",
       "    }\n",
       "\n",
       "    .dataframe thead th {\n",
       "        text-align: right;\n",
       "    }\n",
       "</style>\n",
       "<table border=\"1\" class=\"dataframe\">\n",
       "  <thead>\n",
       "    <tr style=\"text-align: right;\">\n",
       "      <th></th>\n",
       "      <th>Target</th>\n",
       "      <th>Budget</th>\n",
       "      <th>BoxOffice</th>\n",
       "      <th>Rating</th>\n",
       "      <th>Votes</th>\n",
       "      <th>Year</th>\n",
       "    </tr>\n",
       "  </thead>\n",
       "  <tbody>\n",
       "    <tr>\n",
       "      <td>count</td>\n",
       "      <td>703.000000</td>\n",
       "      <td>703.000000</td>\n",
       "      <td>703.000000</td>\n",
       "      <td>703.000000</td>\n",
       "      <td>703.000000</td>\n",
       "      <td>703.000000</td>\n",
       "    </tr>\n",
       "    <tr>\n",
       "      <td>mean</td>\n",
       "      <td>3.149360</td>\n",
       "      <td>30.952845</td>\n",
       "      <td>38.590199</td>\n",
       "      <td>5.831721</td>\n",
       "      <td>8837.796586</td>\n",
       "      <td>2012.721195</td>\n",
       "    </tr>\n",
       "    <tr>\n",
       "      <td>std</td>\n",
       "      <td>1.587575</td>\n",
       "      <td>28.509420</td>\n",
       "      <td>54.521579</td>\n",
       "      <td>1.555828</td>\n",
       "      <td>17694.959424</td>\n",
       "      <td>3.649407</td>\n",
       "    </tr>\n",
       "    <tr>\n",
       "      <td>min</td>\n",
       "      <td>1.000000</td>\n",
       "      <td>0.650000</td>\n",
       "      <td>0.040000</td>\n",
       "      <td>0.000000</td>\n",
       "      <td>0.000000</td>\n",
       "      <td>2000.000000</td>\n",
       "    </tr>\n",
       "    <tr>\n",
       "      <td>25%</td>\n",
       "      <td>2.000000</td>\n",
       "      <td>12.000000</td>\n",
       "      <td>7.000000</td>\n",
       "      <td>4.800000</td>\n",
       "      <td>1177.000000</td>\n",
       "      <td>2010.000000</td>\n",
       "    </tr>\n",
       "    <tr>\n",
       "      <td>50%</td>\n",
       "      <td>3.000000</td>\n",
       "      <td>23.000000</td>\n",
       "      <td>21.000000</td>\n",
       "      <td>5.900000</td>\n",
       "      <td>3463.000000</td>\n",
       "      <td>2013.000000</td>\n",
       "    </tr>\n",
       "    <tr>\n",
       "      <td>75%</td>\n",
       "      <td>4.000000</td>\n",
       "      <td>40.000000</td>\n",
       "      <td>47.750000</td>\n",
       "      <td>7.100000</td>\n",
       "      <td>9295.000000</td>\n",
       "      <td>2016.000000</td>\n",
       "    </tr>\n",
       "    <tr>\n",
       "      <td>max</td>\n",
       "      <td>6.000000</td>\n",
       "      <td>250.000000</td>\n",
       "      <td>511.000000</td>\n",
       "      <td>9.000000</td>\n",
       "      <td>282358.000000</td>\n",
       "      <td>2018.000000</td>\n",
       "    </tr>\n",
       "  </tbody>\n",
       "</table>\n",
       "</div>"
      ],
      "text/plain": [
       "           Target      Budget   BoxOffice      Rating          Votes  \\\n",
       "count  703.000000  703.000000  703.000000  703.000000     703.000000   \n",
       "mean     3.149360   30.952845   38.590199    5.831721    8837.796586   \n",
       "std      1.587575   28.509420   54.521579    1.555828   17694.959424   \n",
       "min      1.000000    0.650000    0.040000    0.000000       0.000000   \n",
       "25%      2.000000   12.000000    7.000000    4.800000    1177.000000   \n",
       "50%      3.000000   23.000000   21.000000    5.900000    3463.000000   \n",
       "75%      4.000000   40.000000   47.750000    7.100000    9295.000000   \n",
       "max      6.000000  250.000000  511.000000    9.000000  282358.000000   \n",
       "\n",
       "              Year  \n",
       "count   703.000000  \n",
       "mean   2012.721195  \n",
       "std       3.649407  \n",
       "min    2000.000000  \n",
       "25%    2010.000000  \n",
       "50%    2013.000000  \n",
       "75%    2016.000000  \n",
       "max    2018.000000  "
      ]
     },
     "execution_count": 47,
     "metadata": {},
     "output_type": "execute_result"
    }
   ],
   "source": [
    "movie.describe()    ## Understand movies features"
   ]
  },
  {
   "cell_type": "markdown",
   "metadata": {},
   "source": [
    "### Understanding data distribution through boxplots and distplots"
   ]
  },
  {
   "cell_type": "code",
   "execution_count": 48,
   "metadata": {},
   "outputs": [
    {
     "data": {
      "text/plain": [
       "<matplotlib.axes._subplots.AxesSubplot at 0x160fe5762c8>"
      ]
     },
     "execution_count": 48,
     "metadata": {},
     "output_type": "execute_result"
    },
    {
     "data": {
      "image/png": "[encoded data removed]",
      "text/plain": [
       "<Figure size 432x288 with 1 Axes>"
      ]
     },
     "metadata": {
      "needs_background": "light"
     },
     "output_type": "display_data"
    }
   ],
   "source": [
    "sn.boxplot(movie[\"Target\"])"
   ]
  },
  {
   "cell_type": "code",
   "execution_count": 49,
   "metadata": {},
   "outputs": [
    {
     "data": {
      "text/plain": [
       "<matplotlib.axes._subplots.AxesSubplot at 0x160ff5bf3c8>"
      ]
     },
     "execution_count": 49,
     "metadata": {},
     "output_type": "execute_result"
    },
    {
     "data": {
      "image/png": "[encoded data removed]",
      "text/plain": [
       "<Figure size 432x288 with 1 Axes>"
      ]
     },
     "metadata": {
      "needs_background": "light"
     },
     "output_type": "display_data"
    }
   ],
   "source": [
    "sn.distplot(movie[\"Target\"])"
   ]
  },
  {
   "cell_type": "code",
   "execution_count": 50,
   "metadata": {},
   "outputs": [
    {
     "data": {
      "text/plain": [
       "<matplotlib.axes._subplots.AxesSubplot at 0x160ff64c5c8>"
      ]
     },
     "execution_count": 50,
     "metadata": {},
     "output_type": "execute_result"
    },
    {
     "data": {
      "image/png": "[encoded data removed]",
      "text/plain": [
       "<Figure size 432x288 with 1 Axes>"
      ]
     },
     "metadata": {
      "needs_background": "light"
     },
     "output_type": "display_data"
    }
   ],
   "source": [
    "sn.boxplot(movie[\"Budget\"])"
   ]
  },
  {
   "cell_type": "code",
   "execution_count": 51,
   "metadata": {},
   "outputs": [
    {
     "data": {
      "text/plain": [
       "<matplotlib.axes._subplots.AxesSubplot at 0x160fe1d2408>"
      ]
     },
     "execution_count": 51,
     "metadata": {},
     "output_type": "execute_result"
    },
    {
     "data": {
      "image/png": "[encoded data removed]",
      "text/plain": [
       "<Figure size 432x288 with 1 Axes>"
      ]
     },
     "metadata": {
      "needs_background": "light"
     },
     "output_type": "display_data"
    }
   ],
   "source": [
    "sn.distplot(movie[\"Budget\"])"
   ]
  },
  {
   "cell_type": "code",
   "execution_count": 52,
   "metadata": {},
   "outputs": [],
   "source": [
    "# scale = MinMaxScaler()\n",
    "# bd = scale.fit(movie[['Budget']])\n",
    "# bd_scaled = bd.transform(movie[['Budget']])\n",
    "# movie['scaled_budget'] = bd_scaled"
   ]
  },
  {
   "cell_type": "code",
   "execution_count": 53,
   "metadata": {},
   "outputs": [
    {
     "data": {
      "text/plain": [
       "<matplotlib.axes._subplots.AxesSubplot at 0x160ff6af508>"
      ]
     },
     "execution_count": 53,
     "metadata": {},
     "output_type": "execute_result"
    },
    {
     "data": {
      "image/png": "[encoded data removed]",
      "text/plain": [
       "<Figure size 432x288 with 1 Axes>"
      ]
     },
     "metadata": {
      "needs_background": "light"
     },
     "output_type": "display_data"
    }
   ],
   "source": [
    "sn.boxplot(movie[\"Rating\"])"
   ]
  },
  {
   "cell_type": "code",
   "execution_count": 54,
   "metadata": {},
   "outputs": [
    {
     "data": {
      "text/plain": [
       "<matplotlib.axes._subplots.AxesSubplot at 0x160ff70d488>"
      ]
     },
     "execution_count": 54,
     "metadata": {},
     "output_type": "execute_result"
    },
    {
     "data": {
      "image/png": "[encoded data removed]",
      "text/plain": [
       "<Figure size 432x288 with 1 Axes>"
      ]
     },
     "metadata": {
      "needs_background": "light"
     },
     "output_type": "display_data"
    }
   ],
   "source": [
    "sn.distplot(movie[\"Rating\"])"
   ]
  },
  {
   "cell_type": "code",
   "execution_count": 55,
   "metadata": {},
   "outputs": [
    {
     "data": {
      "text/plain": [
       "<matplotlib.axes._subplots.AxesSubplot at 0x160ff7b3788>"
      ]
     },
     "execution_count": 55,
     "metadata": {},
     "output_type": "execute_result"
    },
    {
     "data": {
      "image/png": "[encoded data removed]",
      "text/plain": [
       "<Figure size 432x288 with 1 Axes>"
      ]
     },
     "metadata": {
      "needs_background": "light"
     },
     "output_type": "display_data"
    }
   ],
   "source": [
    "sn.boxplot(movie[\"BoxOffice\"])"
   ]
  },
  {
   "cell_type": "code",
   "execution_count": 56,
   "metadata": {},
   "outputs": [
    {
     "data": {
      "text/plain": [
       "<matplotlib.axes._subplots.AxesSubplot at 0x160ff807688>"
      ]
     },
     "execution_count": 56,
     "metadata": {},
     "output_type": "execute_result"
    },
    {
     "data": {
      "image/png": "[encoded data removed]",
      "text/plain": [
       "<Figure size 432x288 with 1 Axes>"
      ]
     },
     "metadata": {
      "needs_background": "light"
     },
     "output_type": "display_data"
    }
   ],
   "source": [
    "sn.distplot(movie[\"BoxOffice\"])"
   ]
  },
  {
   "cell_type": "markdown",
   "metadata": {},
   "source": [
    "## Introducing synthetic feature from existing features"
   ]
  },
  {
   "cell_type": "code",
   "execution_count": 57,
   "metadata": {},
   "outputs": [],
   "source": [
    "movie['ratio'] = round((movie['BoxOffice']/movie['Budget']),2)  ## ratio of boxoffice wrt budget gives the profitability ratio"
   ]
  },
  {
   "cell_type": "code",
   "execution_count": 58,
   "metadata": {},
   "outputs": [
    {
     "data": {
      "text/html": [
       "<div>\n",
       "<style scoped>\n",
       "    .dataframe tbody tr th:only-of-type {\n",
       "        vertical-align: middle;\n",
       "    }\n",
       "\n",
       "    .dataframe tbody tr th {\n",
       "        vertical-align: top;\n",
       "    }\n",
       "\n",
       "    .dataframe thead th {\n",
       "        text-align: right;\n",
       "    }\n",
       "</style>\n",
       "<table border=\"1\" class=\"dataframe\">\n",
       "  <thead>\n",
       "    <tr style=\"text-align: right;\">\n",
       "      <th></th>\n",
       "      <th>Movie</th>\n",
       "      <th>Target</th>\n",
       "      <th>Budget</th>\n",
       "      <th>BoxOffice</th>\n",
       "      <th>Rating</th>\n",
       "      <th>Votes</th>\n",
       "      <th>Year</th>\n",
       "      <th>ratio</th>\n",
       "    </tr>\n",
       "  </thead>\n",
       "  <tbody>\n",
       "    <tr>\n",
       "      <td>0</td>\n",
       "      <td>Batti Gul Meter Chalu</td>\n",
       "      <td>2</td>\n",
       "      <td>50.0</td>\n",
       "      <td>37.0</td>\n",
       "      <td>6.3</td>\n",
       "      <td>1552</td>\n",
       "      <td>2018</td>\n",
       "      <td>0.74</td>\n",
       "    </tr>\n",
       "    <tr>\n",
       "      <td>1</td>\n",
       "      <td>Dangal</td>\n",
       "      <td>6</td>\n",
       "      <td>90.0</td>\n",
       "      <td>370.0</td>\n",
       "      <td>8.5</td>\n",
       "      <td>105480</td>\n",
       "      <td>2016</td>\n",
       "      <td>4.11</td>\n",
       "    </tr>\n",
       "    <tr>\n",
       "      <td>2</td>\n",
       "      <td>Manmarziyaan</td>\n",
       "      <td>3</td>\n",
       "      <td>30.0</td>\n",
       "      <td>26.0</td>\n",
       "      <td>7.0</td>\n",
       "      <td>1836</td>\n",
       "      <td>2018</td>\n",
       "      <td>0.87</td>\n",
       "    </tr>\n",
       "    <tr>\n",
       "      <td>3</td>\n",
       "      <td>Sui Dhaaga: Made in India</td>\n",
       "      <td>4</td>\n",
       "      <td>50.0</td>\n",
       "      <td>55.0</td>\n",
       "      <td>6.9</td>\n",
       "      <td>1342</td>\n",
       "      <td>2018</td>\n",
       "      <td>1.10</td>\n",
       "    </tr>\n",
       "    <tr>\n",
       "      <td>4</td>\n",
       "      <td>Stree</td>\n",
       "      <td>6</td>\n",
       "      <td>25.0</td>\n",
       "      <td>127.0</td>\n",
       "      <td>8.3</td>\n",
       "      <td>7801</td>\n",
       "      <td>2018</td>\n",
       "      <td>5.08</td>\n",
       "    </tr>\n",
       "  </tbody>\n",
       "</table>\n",
       "</div>"
      ],
      "text/plain": [
       "                       Movie  Target  Budget  BoxOffice  Rating   Votes  Year  \\\n",
       "0      Batti Gul Meter Chalu       2    50.0       37.0     6.3    1552  2018   \n",
       "1                     Dangal       6    90.0      370.0     8.5  105480  2016   \n",
       "2               Manmarziyaan       3    30.0       26.0     7.0    1836  2018   \n",
       "3  Sui Dhaaga: Made in India       4    50.0       55.0     6.9    1342  2018   \n",
       "4                      Stree       6    25.0      127.0     8.3    7801  2018   \n",
       "\n",
       "   ratio  \n",
       "0   0.74  \n",
       "1   4.11  \n",
       "2   0.87  \n",
       "3   1.10  \n",
       "4   5.08  "
      ]
     },
     "execution_count": 58,
     "metadata": {},
     "output_type": "execute_result"
    }
   ],
   "source": [
    "movie.head()"
   ]
  },
  {
   "cell_type": "markdown",
   "metadata": {},
   "source": [
    "## Understanding Correlation between all features"
   ]
  },
  {
   "cell_type": "code",
   "execution_count": 59,
   "metadata": {},
   "outputs": [
    {
     "data": {
      "text/html": [
       "<div>\n",
       "<style scoped>\n",
       "    .dataframe tbody tr th:only-of-type {\n",
       "        vertical-align: middle;\n",
       "    }\n",
       "\n",
       "    .dataframe tbody tr th {\n",
       "        vertical-align: top;\n",
       "    }\n",
       "\n",
       "    .dataframe thead th {\n",
       "        text-align: right;\n",
       "    }\n",
       "</style>\n",
       "<table border=\"1\" class=\"dataframe\">\n",
       "  <thead>\n",
       "    <tr style=\"text-align: right;\">\n",
       "      <th></th>\n",
       "      <th>Target</th>\n",
       "      <th>Budget</th>\n",
       "      <th>BoxOffice</th>\n",
       "      <th>Rating</th>\n",
       "      <th>Votes</th>\n",
       "      <th>Year</th>\n",
       "      <th>ratio</th>\n",
       "    </tr>\n",
       "  </thead>\n",
       "  <tbody>\n",
       "    <tr>\n",
       "      <td>Target</td>\n",
       "      <td>1.000000</td>\n",
       "      <td>0.215015</td>\n",
       "      <td>0.565052</td>\n",
       "      <td>0.339787</td>\n",
       "      <td>0.440515</td>\n",
       "      <td>-0.072464</td>\n",
       "      <td>0.898959</td>\n",
       "    </tr>\n",
       "    <tr>\n",
       "      <td>Budget</td>\n",
       "      <td>0.215015</td>\n",
       "      <td>1.000000</td>\n",
       "      <td>0.790225</td>\n",
       "      <td>-0.006314</td>\n",
       "      <td>0.323545</td>\n",
       "      <td>0.185546</td>\n",
       "      <td>0.141828</td>\n",
       "    </tr>\n",
       "    <tr>\n",
       "      <td>BoxOffice</td>\n",
       "      <td>0.565052</td>\n",
       "      <td>0.790225</td>\n",
       "      <td>1.000000</td>\n",
       "      <td>0.187246</td>\n",
       "      <td>0.534875</td>\n",
       "      <td>0.151223</td>\n",
       "      <td>0.550723</td>\n",
       "    </tr>\n",
       "    <tr>\n",
       "      <td>Rating</td>\n",
       "      <td>0.339787</td>\n",
       "      <td>-0.006314</td>\n",
       "      <td>0.187246</td>\n",
       "      <td>1.000000</td>\n",
       "      <td>0.385303</td>\n",
       "      <td>0.064106</td>\n",
       "      <td>0.347836</td>\n",
       "    </tr>\n",
       "    <tr>\n",
       "      <td>Votes</td>\n",
       "      <td>0.440515</td>\n",
       "      <td>0.323545</td>\n",
       "      <td>0.534875</td>\n",
       "      <td>0.385303</td>\n",
       "      <td>1.000000</td>\n",
       "      <td>-0.071387</td>\n",
       "      <td>0.483159</td>\n",
       "    </tr>\n",
       "    <tr>\n",
       "      <td>Year</td>\n",
       "      <td>-0.072464</td>\n",
       "      <td>0.185546</td>\n",
       "      <td>0.151223</td>\n",
       "      <td>0.064106</td>\n",
       "      <td>-0.071387</td>\n",
       "      <td>1.000000</td>\n",
       "      <td>-0.071906</td>\n",
       "    </tr>\n",
       "    <tr>\n",
       "      <td>ratio</td>\n",
       "      <td>0.898959</td>\n",
       "      <td>0.141828</td>\n",
       "      <td>0.550723</td>\n",
       "      <td>0.347836</td>\n",
       "      <td>0.483159</td>\n",
       "      <td>-0.071906</td>\n",
       "      <td>1.000000</td>\n",
       "    </tr>\n",
       "  </tbody>\n",
       "</table>\n",
       "</div>"
      ],
      "text/plain": [
       "             Target    Budget  BoxOffice    Rating     Votes      Year  \\\n",
       "Target     1.000000  0.215015   0.565052  0.339787  0.440515 -0.072464   \n",
       "Budget     0.215015  1.000000   0.790225 -0.006314  0.323545  0.185546   \n",
       "BoxOffice  0.565052  0.790225   1.000000  0.187246  0.534875  0.151223   \n",
       "Rating     0.339787 -0.006314   0.187246  1.000000  0.385303  0.064106   \n",
       "Votes      0.440515  0.323545   0.534875  0.385303  1.000000 -0.071387   \n",
       "Year      -0.072464  0.185546   0.151223  0.064106 -0.071387  1.000000   \n",
       "ratio      0.898959  0.141828   0.550723  0.347836  0.483159 -0.071906   \n",
       "\n",
       "              ratio  \n",
       "Target     0.898959  \n",
       "Budget     0.141828  \n",
       "BoxOffice  0.550723  \n",
       "Rating     0.347836  \n",
       "Votes      0.483159  \n",
       "Year      -0.071906  \n",
       "ratio      1.000000  "
      ]
     },
     "execution_count": 59,
     "metadata": {},
     "output_type": "execute_result"
    }
   ],
   "source": [
    "corrMatrix = movie.corr()\n",
    "corrMatrix"
   ]
  },
  {
   "cell_type": "code",
   "execution_count": 60,
   "metadata": {},
   "outputs": [
    {
     "data": {
      "image/png": "[encoded data removed]",
      "text/plain": [
       "<Figure size 432x288 with 2 Axes>"
      ]
     },
     "metadata": {
      "needs_background": "light"
     },
     "output_type": "display_data"
    }
   ],
   "source": [
    "ax = sn.heatmap(\n",
    "    corrMatrix, \n",
    "    vmin=-1, vmax=1, center=0,\n",
    "    cmap=sn.diverging_palette(20, 220, n=200),\n",
    "    square=True\n",
    ")\n",
    "ax.set_xticklabels(\n",
    "    ax.get_xticklabels(),\n",
    "    rotation=45,\n",
    "    horizontalalignment='right'\n",
    ");"
   ]
  },
  {
   "cell_type": "code",
   "execution_count": 61,
   "metadata": {},
   "outputs": [
    {
     "data": {
      "text/plain": [
       "<matplotlib.axes._subplots.AxesSubplot at 0x160ff939648>"
      ]
     },
     "execution_count": 61,
     "metadata": {},
     "output_type": "execute_result"
    },
    {
     "data": {
      "image/png": "[encoded data removed]",
      "text/plain": [
       "<Figure size 432x288 with 1 Axes>"
      ]
     },
     "metadata": {
      "needs_background": "light"
     },
     "output_type": "display_data"
    }
   ],
   "source": [
    "sn.distplot(movie['ratio'])"
   ]
  },
  {
   "cell_type": "markdown",
   "metadata": {},
   "source": [
    "## Define dependent and independent variables"
   ]
  },
  {
   "cell_type": "code",
   "execution_count": 62,
   "metadata": {},
   "outputs": [
    {
     "name": "stdout",
     "output_type": "stream",
     "text": [
      "(703, 5) (703, 1)\n"
     ]
    }
   ],
   "source": [
    "X = movie[['Target','Budget','Rating','Year','ratio']]\n",
    "y = movie[['BoxOffice']]\n",
    "print(X.shape, y.shape)"
   ]
  },
  {
   "cell_type": "markdown",
   "metadata": {},
   "source": [
    "## Split training and testing data "
   ]
  },
  {
   "cell_type": "code",
   "execution_count": 63,
   "metadata": {},
   "outputs": [],
   "source": [
    "X_train, X_test, y_train, y_test = train_test_split(X, y, test_size=0.30, random_state=42)"
   ]
  },
  {
   "cell_type": "code",
   "execution_count": 64,
   "metadata": {},
   "outputs": [
    {
     "name": "stdout",
     "output_type": "stream",
     "text": [
      "     Target  Budget  Rating  Year  ratio\n",
      "66        4    48.0     7.8  2016   1.26\n",
      "11        3    37.0     7.3  2017   1.00\n",
      "248       5    19.0     3.9  2014   2.47\n",
      "571       4    20.0     4.5  2011   1.25\n",
      "178       1    14.0     3.2  2016   0.22\n",
      "..      ...     ...     ...   ...    ...\n",
      "71        6    90.0     8.0  2015   3.56\n",
      "106       5    42.0     6.5  2006   1.95\n",
      "270       5    47.0     5.4  2010   1.55\n",
      "435       2     6.0     7.5  2010   0.50\n",
      "102       5    95.0     6.9  2017   1.53\n",
      "\n",
      "[492 rows x 5 columns]      Target  Budget  Rating  Year  ratio\n",
      "495       2    60.0     3.3  2013   0.62\n",
      "164       2     9.0     7.3  2014   0.78\n",
      "54        1    25.0     6.1  2018   0.28\n",
      "582       4    18.0     4.2  2008   1.11\n",
      "608       2    24.0     3.4  2009   0.33\n",
      "..      ...     ...     ...   ...    ...\n",
      "42        4    50.0     8.0  2017   1.27\n",
      "73        5    26.0     7.9  2012   2.04\n",
      "167       2    46.0     5.3  2016   0.68\n",
      "363       5    72.0     5.4  2012   1.56\n",
      "696       1    10.0     4.4  2011   0.30\n",
      "\n",
      "[211 rows x 5 columns]      BoxOffice\n",
      "66       60.30\n",
      "11       37.00\n",
      "248      47.00\n",
      "571      25.00\n",
      "178       3.05\n",
      "..         ...\n",
      "71      320.00\n",
      "106      82.00\n",
      "270      73.00\n",
      "435       3.00\n",
      "102     145.00\n",
      "\n",
      "[492 rows x 1 columns]      BoxOffice\n",
      "495      37.00\n",
      "164       7.00\n",
      "54        6.95\n",
      "582      20.00\n",
      "608       8.00\n",
      "..         ...\n",
      "42       63.40\n",
      "73       53.00\n",
      "167      31.30\n",
      "363     112.00\n",
      "696       3.00\n",
      "\n",
      "[211 rows x 1 columns]\n"
     ]
    }
   ],
   "source": [
    "print(X_train, X_test, y_train, y_test)"
   ]
  },
  {
   "cell_type": "markdown",
   "metadata": {},
   "source": [
    "## Model Defination and training"
   ]
  },
  {
   "cell_type": "code",
   "execution_count": 65,
   "metadata": {},
   "outputs": [
    {
     "data": {
      "text/plain": [
       "LinearRegression(copy_X=True, fit_intercept=True, n_jobs=None, normalize=False)"
      ]
     },
     "execution_count": 65,
     "metadata": {},
     "output_type": "execute_result"
    }
   ],
   "source": [
    "model = LinearRegression()\n",
    "model.fit(X_train, y_train)"
   ]
  },
  {
   "cell_type": "markdown",
   "metadata": {},
   "source": [
    "## Accuracy Score"
   ]
  },
  {
   "cell_type": "code",
   "execution_count": 66,
   "metadata": {},
   "outputs": [
    {
     "data": {
      "text/plain": [
       "0.8450978881825193"
      ]
     },
     "execution_count": 66,
     "metadata": {},
     "output_type": "execute_result"
    }
   ],
   "source": [
    "model.score(X_test, y_test)"
   ]
  },
  {
   "cell_type": "code",
   "execution_count": 67,
   "metadata": {},
   "outputs": [
    {
     "name": "stdout",
     "output_type": "stream",
     "text": [
      "(211, 1)\n"
     ]
    }
   ],
   "source": [
    "y_pred = model.predict(X_test)\n",
    "print(y_pred.shape)"
   ]
  },
  {
   "cell_type": "code",
   "execution_count": 72,
   "metadata": {},
   "outputs": [
    {
     "name": "stderr",
     "output_type": "stream",
     "text": [
      "C:\\Users\\kajal.singh01\\AppData\\Local\\Continuum\\anaconda3\\lib\\site-packages\\ipykernel_launcher.py:1: SettingWithCopyWarning: \n",
      "A value is trying to be set on a copy of a slice from a DataFrame.\n",
      "Try using .loc[row_indexer,col_indexer] = value instead\n",
      "\n",
      "See the caveats in the documentation: http://pandas.pydata.org/pandas-docs/stable/user_guide/indexing.html#returning-a-view-versus-a-copy\n",
      "  \"\"\"Entry point for launching an IPython kernel.\n"
     ]
    }
   ],
   "source": [
    "X_test['predicted_price'] = y_pred"
   ]
  },
  {
   "cell_type": "code",
   "execution_count": 73,
   "metadata": {},
   "outputs": [
    {
     "data": {
      "text/html": [
       "<div>\n",
       "<style scoped>\n",
       "    .dataframe tbody tr th:only-of-type {\n",
       "        vertical-align: middle;\n",
       "    }\n",
       "\n",
       "    .dataframe tbody tr th {\n",
       "        vertical-align: top;\n",
       "    }\n",
       "\n",
       "    .dataframe thead th {\n",
       "        text-align: right;\n",
       "    }\n",
       "</style>\n",
       "<table border=\"1\" class=\"dataframe\">\n",
       "  <thead>\n",
       "    <tr style=\"text-align: right;\">\n",
       "      <th></th>\n",
       "      <th>Target</th>\n",
       "      <th>Budget</th>\n",
       "      <th>Rating</th>\n",
       "      <th>Year</th>\n",
       "      <th>ratio</th>\n",
       "      <th>predicted</th>\n",
       "      <th>predicted_price</th>\n",
       "    </tr>\n",
       "  </thead>\n",
       "  <tbody>\n",
       "    <tr>\n",
       "      <td>495</td>\n",
       "      <td>2</td>\n",
       "      <td>60.0</td>\n",
       "      <td>3.3</td>\n",
       "      <td>2013</td>\n",
       "      <td>0.62</td>\n",
       "      <td>62.646012</td>\n",
       "      <td>62.646012</td>\n",
       "    </tr>\n",
       "    <tr>\n",
       "      <td>164</td>\n",
       "      <td>2</td>\n",
       "      <td>9.0</td>\n",
       "      <td>7.3</td>\n",
       "      <td>2014</td>\n",
       "      <td>0.78</td>\n",
       "      <td>3.288408</td>\n",
       "      <td>3.288408</td>\n",
       "    </tr>\n",
       "    <tr>\n",
       "      <td>54</td>\n",
       "      <td>1</td>\n",
       "      <td>25.0</td>\n",
       "      <td>6.1</td>\n",
       "      <td>2018</td>\n",
       "      <td>0.28</td>\n",
       "      <td>13.906073</td>\n",
       "      <td>13.906073</td>\n",
       "    </tr>\n",
       "    <tr>\n",
       "      <td>582</td>\n",
       "      <td>4</td>\n",
       "      <td>18.0</td>\n",
       "      <td>4.2</td>\n",
       "      <td>2008</td>\n",
       "      <td>1.11</td>\n",
       "      <td>15.526988</td>\n",
       "      <td>15.526988</td>\n",
       "    </tr>\n",
       "    <tr>\n",
       "      <td>608</td>\n",
       "      <td>2</td>\n",
       "      <td>24.0</td>\n",
       "      <td>3.4</td>\n",
       "      <td>2009</td>\n",
       "      <td>0.33</td>\n",
       "      <td>3.661078</td>\n",
       "      <td>3.661078</td>\n",
       "    </tr>\n",
       "  </tbody>\n",
       "</table>\n",
       "</div>"
      ],
      "text/plain": [
       "     Target  Budget  Rating  Year  ratio  predicted  predicted_price\n",
       "495       2    60.0     3.3  2013   0.62  62.646012        62.646012\n",
       "164       2     9.0     7.3  2014   0.78   3.288408         3.288408\n",
       "54        1    25.0     6.1  2018   0.28  13.906073        13.906073\n",
       "582       4    18.0     4.2  2008   1.11  15.526988        15.526988\n",
       "608       2    24.0     3.4  2009   0.33   3.661078         3.661078"
      ]
     },
     "execution_count": 73,
     "metadata": {},
     "output_type": "execute_result"
    }
   ],
   "source": [
    "X_test.head()"
   ]
  },
  {
   "cell_type": "markdown",
   "metadata": {},
   "source": [
    "## Scatter plot for Predicted values VS Actual values"
   ]
  },
  {
   "cell_type": "code",
   "execution_count": 74,
   "metadata": {},
   "outputs": [],
   "source": [
    "y = range(y_pred.shape[0])"
   ]
  },
  {
   "cell_type": "code",
   "execution_count": 75,
   "metadata": {},
   "outputs": [
    {
     "data": {
      "text/plain": [
       "<matplotlib.legend.Legend at 0x160ffb33a88>"
      ]
     },
     "execution_count": 75,
     "metadata": {},
     "output_type": "execute_result"
    },
    {
     "data": {
      "image/png": "[encoded data removed]",
      "text/plain": [
       "<Figure size 432x288 with 1 Axes>"
      ]
     },
     "metadata": {
      "needs_background": "light"
     },
     "output_type": "display_data"
    }
   ],
   "source": [
    "plt.scatter(y, y_pred, c='b', marker='+')\n",
    "plt.scatter(y, y_test, c='r', marker='.')\n",
    "labels = ['y_pred', 'y_test']\n",
    "plt.legend(labels)"
   ]
  },
  {
   "cell_type": "code",
   "execution_count": null,
   "metadata": {},
   "outputs": [],
   "source": []
  }
 ],
 "metadata": {
  "kernelspec": {
   "display_name": "Python 3",
   "language": "python",
   "name": "python3"
  },
  "language_info": {
   "codemirror_mode": {
    "name": "ipython",
    "version": 3
   },
   "file_extension": ".py",
   "mimetype": "text/x-python",
   "name": "python",
   "nbconvert_exporter": "python",
   "pygments_lexer": "ipython3",
   "version": "3.7.4"
  }
 },
 "nbformat": 4,
 "nbformat_minor": 2
}
